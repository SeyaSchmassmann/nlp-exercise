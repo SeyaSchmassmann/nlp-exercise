{
 "cells": [
  {
   "cell_type": "markdown",
   "metadata": {},
   "source": [
    "## Week 07\n",
    "\n",
    "- Exercise 1: Read chapter *1.4 Applying BERT Models* in \n",
    "[Foundations of Large Language Models](https://arxiv.org/abs/2501.09223). How can you use a pre-trained BERT model for:\n",
    "\n",
    "    - Text classification?\n",
    "    - Named entity recognition?\n",
    "    - Question answering?\n",
    "    - Sequence Labeling? POS, NER?\n",
    "    - Span-Prediction? Make an example of a span-prediction task.\n",
    "    - What is catastrophic forgetting and how can it be \"avoided\"?\n",
    "- Exercise 2: Go through the [Hugging Face tutorial](https://huggingface.co/blog/sentiment-analysis-python) on sequence classification and choose your own model from the link in the tutorial [here](https://huggingface.co/models?pipeline_tag=text-classification&sort=downloads&search=sentiment). Import the `movies` data, choose a pretrained model and try to do a prediction. Can you also finetune the your model? Does it get better?"
   ]
  }
 ],
 "metadata": {
  "kernelspec": {
   "display_name": "py-nlp-exercises",
   "language": "python",
   "name": "python3"
  },
  "language_info": {
   "codemirror_mode": {
    "name": "ipython",
    "version": 3
   },
   "file_extension": ".py",
   "mimetype": "text/x-python",
   "name": "python",
   "nbconvert_exporter": "python",
   "pygments_lexer": "ipython3",
   "version": "3.12.2"
  }
 },
 "nbformat": 4,
 "nbformat_minor": 2
}
